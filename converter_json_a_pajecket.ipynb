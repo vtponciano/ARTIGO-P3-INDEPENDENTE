{
  "nbformat": 4,
  "nbformat_minor": 0,
  "metadata": {
    "colab": {
      "provenance": [],
      "authorship_tag": "ABX9TyNzZe1R94gf20so+BVOo802",
      "include_colab_link": true
    },
    "kernelspec": {
      "name": "python3",
      "display_name": "Python 3"
    },
    "language_info": {
      "name": "python"
    }
  },
  "cells": [
    {
      "cell_type": "markdown",
      "metadata": {
        "id": "view-in-github",
        "colab_type": "text"
      },
      "source": [
        "<a href=\"https://colab.research.google.com/github/vtponciano/ARTIGO-P3-INDEPENDENTE/blob/master/converter_json_a_pajecket.ipynb\" target=\"_parent\"><img src=\"https://colab.research.google.com/assets/colab-badge.svg\" alt=\"Open In Colab\"/></a>"
      ]
    },
    {
      "cell_type": "code",
      "execution_count": 2,
      "metadata": {
        "colab": {
          "base_uri": "https://localhost:8080/"
        },
        "id": "-PRAyy4OXKYw",
        "outputId": "4e712b14-ac58-4747-a563-77ce013cf04b"
      },
      "outputs": [
        {
          "output_type": "stream",
          "name": "stdout",
          "text": [
            "O grafo foi convertido e salvo em 'Yu_Phillip_S.net' no formato Pajek.\n"
          ]
        }
      ],
      "source": [
        "import json\n",
        "\n",
        "\n",
        "def converter_json_a_pajecket(grafo_json):\n",
        "    nodos = {}\n",
        "    contenido_pajecket = []\n",
        "\n",
        "    # Extraer los nodos y asignarles identificadores únicos\n",
        "    for item in grafo_json[\"network\"][\"items\"]:\n",
        "        nodo_id = item[\"id\"]\n",
        "        nodos[nodo_id] = len(nodos) + 1\n",
        "        contenido_pajecket.append(f\"{nodos[nodo_id]} {item['label']}\")\n",
        "\n",
        "    # Agregar las aristas al contenido Pajek\n",
        "    contenido_pajecket.append(\"*Edges\")\n",
        "    for arista in grafo_json[\"network\"][\"links\"]:\n",
        "        source_id = arista[\"source_id\"]\n",
        "        target_id = arista[\"target_id\"]\n",
        "        source_node = nodos.get(source_id)\n",
        "        target_node = nodos.get(target_id)\n",
        "        if source_node and target_node:\n",
        "            contenido_pajecket.append(f\"{source_node} {target_node}\")\n",
        "\n",
        "    # Concatenar el contenido Pajek en una cadena\n",
        "    pajecket_string = \"\\n\".join(contenido_pajecket)\n",
        "\n",
        "    return pajecket_string\n",
        "\n",
        "\n",
        "# Nome do arquivo JSON que você deseja converter\n",
        "nome_arquivo_json = \"VOSviewer-network(14).json\"\n",
        "\n",
        "# Abrir e ler o conteúdo do arquivo JSON\n",
        "with open(nome_arquivo_json, \"r\") as arquivo_json:\n",
        "    grafo_json = json.load(arquivo_json)\n",
        "\n",
        "# Converter o grafo JSON para o formato Pajek\n",
        "resultado_pajek = converter_json_a_pajecket(grafo_json)\n",
        "\n",
        "# Nome do arquivo de saída Pajek\n",
        "nome_arquivo_saida_pajek = \"Yu_Phillip_S.net\"\n",
        "\n",
        "# Salvar o resultado Pajek em um arquivo\n",
        "with open(nome_arquivo_saida_pajek, \"w\") as arquivo_saida_pajek:\n",
        "    arquivo_saida_pajek.write(resultado_pajek)\n",
        "\n",
        "print(f\"O grafo foi convertido e salvo em '{nome_arquivo_saida_pajek}' no formato Pajek.\")\n"
      ]
    }
  ]
}