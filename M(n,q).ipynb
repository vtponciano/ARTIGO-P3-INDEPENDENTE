{
  "nbformat": 4,
  "nbformat_minor": 0,
  "metadata": {
    "colab": {
      "provenance": [],
      "authorship_tag": "ABX9TyMJXVerIcrlDg/BEemKI/4K",
      "include_colab_link": true
    },
    "kernelspec": {
      "name": "python3",
      "display_name": "Python 3"
    },
    "language_info": {
      "name": "python"
    }
  },
  "cells": [
    {
      "cell_type": "markdown",
      "metadata": {
        "id": "view-in-github",
        "colab_type": "text"
      },
      "source": [
        "<a href=\"https://colab.research.google.com/github/vtponciano/ARTIGO-P3-INDEPENDENTE/blob/master/M(n%2Cq).ipynb\" target=\"_parent\"><img src=\"https://colab.research.google.com/assets/colab-badge.svg\" alt=\"Open In Colab\"/></a>"
      ]
    },
    {
      "cell_type": "code",
      "execution_count": null,
      "metadata": {
        "id": "5YPVxG-7Kqgd"
      },
      "outputs": [],
      "source": [
        "\n",
        "\n",
        "import pandas as pd\n",
        "import networkx as nx\n",
        "import matplotlib.pyplot as plt\n",
        "import numpy as np\n",
        "import networkx\n",
        "import csv\n",
        "\n",
        "def Grafo_M(n,q):\n",
        "\n",
        "\n",
        "  k=n//(q)\n",
        "\n",
        "\n",
        "  ################################# M(n,q) #################################################\n",
        "  G =  nx.Graph()\n",
        "\n",
        "  for i in range(1,n):\n",
        "      G.add_edge('u'+str(i), 'v'+str(i))\n",
        "      G.add_edge('u'+str(i), 'u'+str(i+1))\n",
        "\n",
        "  G.add_edge('u'+str(1), 'u'+str(n))\n",
        "  G.add_edge('u'+str(n), 'v'+str(n))\n",
        "\n",
        "\n",
        "  def complete_graph(l):\n",
        "     for i in range(1,k+1):\n",
        "       for  j in range(l,q):\n",
        "          G.add_edge('v'+str(i+(l-1)*k), 'v'+str(i+j*k))\n",
        "\n",
        "  for i in range(1,q):\n",
        "    complete_graph(i)\n",
        "\n",
        "\n",
        "  nx.write_gexf(G, f\"M({str(n)},{str(q)}).gexf\")\n",
        "  nx.write_edgelist(G,f\"M({str(n)},{str(q)}).tgf\", delimiter=f\" \",data=False)\n",
        "  nx.write_pajek(G, f\"M({str(n)},{str(q)}).net\")\n",
        "  return G\n",
        " #Entre com n/q\n",
        "k=9\n",
        "q=6\n",
        "n=k*q\n",
        "graph=Grafo_M(n,q)\n",
        ""
      ]
    }
  ]
}